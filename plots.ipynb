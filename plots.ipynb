{
 "cells": [
  {
   "attachments": {},
   "cell_type": "markdown",
   "metadata": {},
   "source": [
    "# 📊 Plots"
   ]
  },
  {
   "attachments": {},
   "cell_type": "markdown",
   "metadata": {},
   "source": [
    "## 📚 Loading libraries"
   ]
  },
  {
   "cell_type": "code",
   "execution_count": null,
   "metadata": {},
   "outputs": [],
   "source": [
    "import matplotlib.pyplot as plt\n",
    "import numpy as np\n",
    "import os\n",
    "import pandas as pd\n",
    "import seaborn as sns\n",
    "\n",
    "from utils.const import *"
   ]
  },
  {
   "attachments": {},
   "cell_type": "markdown",
   "metadata": {},
   "source": [
    "## 📍 Parameters"
   ]
  },
  {
   "cell_type": "code",
   "execution_count": null,
   "metadata": {},
   "outputs": [],
   "source": [
    "# Plots Parameters\n",
    "SMALL_SIZE = 25\n",
    "MEDIUM_SIZE = 30\n",
    "BIGGER_SIZE = 35\n",
    "\n",
    "plt.rc('font', size=BIGGER_SIZE)         # Controls default text sizes\n",
    "plt.rc('axes', titlesize=SMALL_SIZE)     # Fontsize of the axes title\n",
    "plt.rc('axes', labelsize=MEDIUM_SIZE)    # Fontsize of the x and y labels\n",
    "plt.rc('xtick', labelsize=SMALL_SIZE)    # Fontsize of the tick labels\n",
    "plt.rc('ytick', labelsize=SMALL_SIZE)    # Fontsize of the tick labels\n",
    "plt.rc('legend', fontsize=SMALL_SIZE)    # Legend fontsize\n",
    "plt.rc('figure', titlesize=BIGGER_SIZE)  # Fontsize of the figure title"
   ]
  },
  {
   "attachments": {},
   "cell_type": "markdown",
   "metadata": {},
   "source": [
    "## 🔐 Authentication"
   ]
  },
  {
   "attachments": {},
   "cell_type": "markdown",
   "metadata": {},
   "source": [
    "### 📏 Mean Performance on All Models"
   ]
  },
  {
   "cell_type": "code",
   "execution_count": null,
   "metadata": {},
   "outputs": [],
   "source": [
    "# Loading files\n",
    "auths = []\n",
    "\n",
    "for file in sorted(os.listdir(RESULTS)):\n",
    "    if len(file.split('.')) > 1 and 'AUTH' in file:\n",
    "        authPath = os.path.join(RESULTS, file)\n",
    "        auths.append(pd.read_csv(authPath, index_col=0))\n",
    "\n",
    "df = pd.concat(auths)"
   ]
  },
  {
   "cell_type": "code",
   "execution_count": null,
   "metadata": {},
   "outputs": [],
   "source": [
    "# Renaming Models with abbreviations\n",
    "df['Model'] = df['Model'].str.replace(\"AdaBoost\",\"AB\")\n",
    "df['Model'] = df['Model'].str.replace(\"Decision Tree\",\"DT\")\n",
    "df['Model'] = df['Model'].str.replace(\"Gaussian Naive Bayes\",\"GNB\")\n",
    "df['Model'] = df['Model'].str.replace(\"Nearest Neighbors\",\"KNN\")\n",
    "df['Model'] = df['Model'].str.replace(\"Neural Network\",\"NN\")\n",
    "df['Model'] = df['Model'].str.replace(\"Quadratic Discriminant Analysis\",\"QDA\")\n",
    "df['Model'] = df['Model'].str.replace(\"Random Forest\",\"RF\")\n",
    "df['Model'] = df['Model'].str.replace(\"Support Vector Machine\",\"SVM\")\n",
    "\n",
    "# Renaming IDs\n",
    "df['ID'] = df['ID'].astype('str').str.replace(\"1\",\"Architecture\")\n",
    "df['ID'] = df['ID'].str.replace(\"2\",\"Battery Model\")"
   ]
  },
  {
   "cell_type": "code",
   "execution_count": null,
   "metadata": {},
   "outputs": [],
   "source": [
    "COLORS = [\"#1F8A70\", \"#FC7300\"]\n",
    "\n",
    "sns.set(style=\"whitegrid\", font_scale=1.6, palette=sns.color_palette(\"colorblind\", desat=None))\n",
    "\n",
    "fig, ax = plt.subplots(figsize=(10, 7))\n",
    "bar_plot = sns.barplot(data=df, x='Model', y='F1', hue='ID', saturation=1, ax=ax, edgecolor=\"black\")\n",
    "\n",
    "# Legend\n",
    "leg = plt.legend(bbox_to_anchor=(0., 0.015, 0.98, 1.5),\n",
    "                 loc='lower right', ncol=1, borderaxespad=0.25)\n",
    "leg._legend_box.align = \"right\"\n",
    "leg.get_frame().set_alpha(None)\n",
    "\n",
    "# Axis labels\n",
    "plt.ylim(0, 1)\n",
    "plt.xlabel(\"Machine Learning Model\")\n",
    "plt.ylabel(\"F1 Score\")\n",
    "\n",
    "plt.tight_layout()\n",
    "plt.savefig(FIGURES + 'AUTH_F1.pdf')"
   ]
  },
  {
   "cell_type": "code",
   "execution_count": null,
   "metadata": {},
   "outputs": [],
   "source": [
    "COLORS = [\"#1F8A70\", \"#FC7300\"]\n",
    "\n",
    "sns.set(style=\"whitegrid\", font_scale=1.6,\n",
    "        palette=sns.color_palette(\"colorblind\", desat=None))\n",
    "\n",
    "fig, ax = plt.subplots(figsize=(10, 7))\n",
    "bar_plot = sns.barplot(data=df, x='Model', y='FAR', hue='ID', saturation=1, ax=ax, edgecolor=\"black\")\n",
    "\n",
    "# Legend\n",
    "leg = plt.legend(bbox_to_anchor=(0., 0., 1., 1.),\n",
    "                 loc='upper right', ncol=1, borderaxespad=0.25)\n",
    "leg._legend_box.align = \"right\"\n",
    "leg.get_frame().set_alpha(None)\n",
    "\n",
    "# Axis labels\n",
    "plt.ylim(0, 1)\n",
    "plt.xlabel(\"Machine Learning Model\")\n",
    "plt.ylabel(\"False Acceptance Rate\")\n",
    "\n",
    "plt.tight_layout()\n",
    "plt.savefig(FIGURES + 'AUTH_FAR.pdf')"
   ]
  },
  {
   "cell_type": "code",
   "execution_count": null,
   "metadata": {},
   "outputs": [],
   "source": [
    "COLORS = [\"#1F8A70\", \"#FC7300\"]\n",
    "\n",
    "sns.set(style=\"whitegrid\", font_scale=1.6,\n",
    "        palette=sns.color_palette(\"colorblind\", desat=None))\n",
    "\n",
    "fig, ax = plt.subplots(figsize=(10, 7))\n",
    "bar_plot = sns.barplot(data=df, x='Model', y='FRR', hue='ID', saturation=1, ax=ax, edgecolor=\"black\")\n",
    "\n",
    "# Legend\n",
    "leg = plt.legend(bbox_to_anchor=(0., 0., 1., 1.),\n",
    "                 loc='upper right', ncol=1, borderaxespad=0.25)\n",
    "leg._legend_box.align = \"right\"\n",
    "leg.get_frame().set_alpha(None)\n",
    "\n",
    "# Axis labels\n",
    "plt.ylim(0, 1)\n",
    "plt.xlabel(\"Machine Learning Model\")\n",
    "plt.ylabel(\"False Rejection Rate\")\n",
    "\n",
    "plt.tight_layout()\n",
    "plt.savefig(FIGURES + 'AUTH_FRR.pdf')"
   ]
  },
  {
   "attachments": {},
   "cell_type": "markdown",
   "metadata": {},
   "source": [
    "### ⚖️ Dependance on Balance"
   ]
  },
  {
   "cell_type": "code",
   "execution_count": null,
   "metadata": {},
   "outputs": [],
   "source": [
    "balancedf = pd.DataFrame(np.repeat(df.values, 2, axis=0))\n",
    "balancedf.columns = df.columns\n",
    "\n",
    "far_frr = []\n",
    "far_frr_score = []\n",
    "for i in range(len(balancedf)):\n",
    "    if i % 2 == 0:\n",
    "        far_frr.append('FAR')\n",
    "        far_frr_score.append(balancedf.iloc[i]['FAR'])\n",
    "    else:\n",
    "        far_frr.append('FRR')\n",
    "        far_frr_score.append(balancedf.iloc[i]['FRR'])\n",
    "\n",
    "balancedf['FAR/FRR'] = far_frr\n",
    "balancedf['FAR/FRR_Score'] = far_frr_score\n"
   ]
  },
  {
   "cell_type": "code",
   "execution_count": null,
   "metadata": {},
   "outputs": [],
   "source": [
    "COLORS = [\"#1F8A70\", \"#FC7300\"]\n",
    "\n",
    "sns.set(style=\"whitegrid\", font_scale=1.6,\n",
    "        palette=sns.color_palette(\"colorblind\", desat=None))\n",
    "\n",
    "fig, ax = plt.subplots(figsize=(10, 7))\n",
    "bar_plot = sns.barplot(data=balancedf, x='Balance', y='FAR/FRR_Score', hue='FAR/FRR', saturation=1, ax=ax, edgecolor=\"black\")\n",
    "\n",
    "# Legend\n",
    "leg = plt.legend(bbox_to_anchor=(0., 1.02, 1., .102),\n",
    "                 loc='lower center', ncol=3, borderaxespad=0.2)\n",
    "leg._legend_box.align = \"left\"\n",
    "leg.set_title(\"Metric\")\n",
    "leg._legend_box.align = \"center\"\n",
    "\n",
    "# Axis labels\n",
    "plt.ylim(0, 1)\n",
    "plt.xlabel(\"Dataset Balance\")\n",
    "plt.ylabel(\"Rate\")\n",
    "\n",
    "plt.tight_layout()\n",
    "plt.savefig(FIGURES + 'AUTH_BalanceRate.pdf')"
   ]
  },
  {
   "cell_type": "code",
   "execution_count": null,
   "metadata": {},
   "outputs": [],
   "source": [
    "COLORS = [\"#1F8A70\", \"#FC7300\"]\n",
    "\n",
    "sns.set(style=\"whitegrid\", font_scale=1.6,\n",
    "        palette=sns.color_palette('Paired', desat=None))\n",
    "\n",
    "df2 = df\n",
    "df2['FAR+FRR'] = df2['FAR'] + df2['FRR']\n",
    "fig, ax = plt.subplots(figsize=(10, 7.5))\n",
    "bar_plot = sns.barplot(data=df2, x='Model', y='FAR', hue='Balance', saturation=1, ax=ax, edgecolor=\"black\")\n",
    "\n",
    "# Legend\n",
    "leg = plt.legend(bbox_to_anchor=(0., 0., 0.985, 0.975),\n",
    "                 loc='upper right', ncol=1, borderaxespad=0.25)\n",
    "leg._legend_box.align = \"right\"\n",
    "leg.get_frame().set_alpha(None)\n",
    "\n",
    "# Axis labels\n",
    "plt.ylim(0, 1)\n",
    "plt.xlabel(\"Machine Learning Model\")\n",
    "plt.ylabel(\"False Acceptance Rate\")\n",
    "\n",
    "plt.tight_layout()\n",
    "plt.savefig(FIGURES + 'AUTH_BalanceModelFAR.pdf')"
   ]
  },
  {
   "cell_type": "code",
   "execution_count": null,
   "metadata": {},
   "outputs": [],
   "source": [
    "COLORS = [\"#1F8A70\", \"#FC7300\"]\n",
    "\n",
    "sns.set(style=\"whitegrid\", font_scale=1.6,\n",
    "        palette=sns.color_palette('Paired', desat=None))\n",
    "\n",
    "df2 = df\n",
    "df2['FAR+FRR'] = df2['FAR'] + df2['FRR']\n",
    "fig, ax = plt.subplots(figsize=(10, 7.5))\n",
    "bar_plot = sns.barplot(data=df2, x='Model', y='FRR', hue='Balance', saturation=1, ax=ax, edgecolor=\"black\")\n",
    "\n",
    "# Legend\n",
    "leg = plt.legend(bbox_to_anchor=(0., 0., 0.985, 0.975),\n",
    "                 loc='upper right', ncol=1, borderaxespad=0.25)\n",
    "leg._legend_box.align = \"right\"\n",
    "leg.get_frame().set_alpha(None)\n",
    "\n",
    "# Axis labels\n",
    "plt.ylim(0, 1)\n",
    "plt.xlabel(\"Machine Learning Model\")\n",
    "plt.ylabel(\"False Rejection Rate\")\n",
    "\n",
    "plt.tight_layout()\n",
    "plt.savefig(FIGURES + 'AUTH_BalanceModelFRR.pdf')"
   ]
  },
  {
   "attachments": {},
   "cell_type": "markdown",
   "metadata": {},
   "source": [
    "## 🔎 Identification"
   ]
  },
  {
   "attachments": {},
   "cell_type": "markdown",
   "metadata": {},
   "source": [
    "### 📏 Mean Performance on All Models"
   ]
  },
  {
   "cell_type": "code",
   "execution_count": null,
   "metadata": {},
   "outputs": [],
   "source": [
    "# Loading files\n",
    "idents = []\n",
    "\n",
    "for file in sorted(os.listdir(RESULTS)):\n",
    "    if len(file.split('.')) > 1 and 'IDENT' in file:\n",
    "        identPath = os.path.join(RESULTS, file)\n",
    "        idents.append(pd.read_csv(identPath, index_col=0))\n",
    "\n",
    "df = pd.concat(idents)"
   ]
  },
  {
   "cell_type": "code",
   "execution_count": null,
   "metadata": {},
   "outputs": [],
   "source": [
    "# Renaming Models with abbreviations\n",
    "df['Model'] = df['Model'].str.replace(\"AdaBoost\",\"AB\")\n",
    "df['Model'] = df['Model'].str.replace(\"Decision Tree\",\"DT\")\n",
    "df['Model'] = df['Model'].str.replace(\"Gaussian Naive Bayes\",\"GNB\")\n",
    "df['Model'] = df['Model'].str.replace(\"Nearest Neighbors\",\"KNN\")\n",
    "df['Model'] = df['Model'].str.replace(\"Neural Network\",\"NN\")\n",
    "df['Model'] = df['Model'].str.replace(\"Quadratic Discriminant Analysis\",\"QDA\")\n",
    "df['Model'] = df['Model'].str.replace(\"Random Forest\",\"RF\")\n",
    "df['Model'] = df['Model'].str.replace(\"Support Vector Machine\",\"SVM\")\n",
    "\n",
    "# Renaming IDs\n",
    "df['ID'] = df['ID'].astype('str').str.replace(\"1\",\"Architecture\")\n",
    "df['ID'] = df['ID'].str.replace(\"2\",\"Battery Model\")"
   ]
  },
  {
   "cell_type": "code",
   "execution_count": null,
   "metadata": {},
   "outputs": [],
   "source": [
    "COLORS = [\"#1F8A70\", \"#FC7300\"]\n",
    "\n",
    "sns.set(style=\"whitegrid\", font_scale=1.6,\n",
    "        palette=sns.color_palette('colorblind', desat=None))\n",
    "\n",
    "fig, ax = plt.subplots(figsize=(10, 7))\n",
    "bar_plot = sns.barplot(data=df, x='Model', y='F1', hue='ID',\n",
    "                       saturation=1, ax=ax, edgecolor=\"black\")\n",
    "\n",
    "# Legend\n",
    "leg = plt.legend(bbox_to_anchor=(0., 0.015, 0.98, 1.5),\n",
    "                 loc='lower right', ncol=1, borderaxespad=0.25)\n",
    "leg._legend_box.align = \"right\"\n",
    "leg.get_frame().set_alpha(None)\n",
    "\n",
    "# Axis labels\n",
    "plt.ylim(0, 1)\n",
    "plt.xlabel(\"Machine Learning Model\")\n",
    "plt.ylabel(\"F1 Score\")\n",
    "\n",
    "plt.tight_layout()\n",
    "plt.savefig(FIGURES + 'IDENT_F1.pdf')"
   ]
  }
 ],
 "metadata": {
  "kernelspec": {
   "display_name": "pytorch",
   "language": "python",
   "name": "python3"
  },
  "language_info": {
   "codemirror_mode": {
    "name": "ipython",
    "version": 3
   },
   "file_extension": ".py",
   "mimetype": "text/x-python",
   "name": "python",
   "nbconvert_exporter": "python",
   "pygments_lexer": "ipython3",
   "version": "3.8.10"
  },
  "orig_nbformat": 4
 },
 "nbformat": 4,
 "nbformat_minor": 2
}
